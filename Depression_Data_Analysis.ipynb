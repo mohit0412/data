{
  "nbformat": 4,
  "nbformat_minor": 0,
  "metadata": {
    "colab": {
      "provenance": [],
      "authorship_tag": "ABX9TyMzjyETqYozdzOtCLkljU6G",
      "include_colab_link": true
    },
    "kernelspec": {
      "name": "python3",
      "display_name": "Python 3"
    },
    "language_info": {
      "name": "python"
    }
  },
  "cells": [
    {
      "cell_type": "markdown",
      "metadata": {
        "id": "view-in-github",
        "colab_type": "text"
      },
      "source": [
        "<a href=\"https://colab.research.google.com/github/mohit0412/data/blob/main/Depression_Data_Analysis.ipynb\" target=\"_parent\"><img src=\"https://colab.research.google.com/assets/colab-badge.svg\" alt=\"Open In Colab\"/></a>"
      ]
    },
    {
      "cell_type": "markdown",
      "metadata": {
        "id": "9bda93ba"
      },
      "source": [
        "Depression Data Set Analysis"
      ]
    },
    {
      "cell_type": "code",
      "source": [
        "# !pip install category_encoders"
      ],
      "metadata": {
        "id": "zdtCel4fS0Lg"
      },
      "execution_count": null,
      "outputs": []
    },
    {
      "cell_type": "code",
      "execution_count": null,
      "metadata": {
        "id": "cRYUKd6IkSPz"
      },
      "outputs": [],
      "source": [
        "import pandas as pd\n",
        "import numpy as np\n",
        "import category_encoders as ce\n",
        "import matplotlib.pyplot as plt\n",
        "import seaborn as sns"
      ]
    },
    {
      "cell_type": "code",
      "source": [
        "from sklearn.metrics import accuracy_score, precision_score, recall_score, f1_score\n",
        "from sklearn.metrics import roc_auc_score, roc_curve\n",
        "from sklearn.metrics import confusion_matrix, ConfusionMatrixDisplay\n",
        "from sklearn.neighbors import KNeighborsClassifier\n",
        "from sklearn.preprocessing import StandardScaler, MinMaxScaler\n",
        "from sklearn.model_selection import train_test_split"
      ],
      "metadata": {
        "id": "7_NTqcD-uhYj"
      },
      "execution_count": null,
      "outputs": []
    },
    {
      "cell_type": "code",
      "source": [
        "from sklearn.model_selection import cross_validate, cross_val_score\n",
        "from sklearn.model_selection import RepeatedStratifiedKFold"
      ],
      "metadata": {
        "id": "QGonuIIy7tGb"
      },
      "execution_count": null,
      "outputs": []
    },
    {
      "cell_type": "code",
      "source": [
        "from sklearn.preprocessing import LabelBinarizer\n",
        "from sklearn.metrics import RocCurveDisplay"
      ],
      "metadata": {
        "id": "XC73droeZcjv"
      },
      "execution_count": null,
      "outputs": []
    },
    {
      "cell_type": "code",
      "source": [
        "df=pd.read_csv('data.csv',sep='\\t')"
      ],
      "metadata": {
        "id": "ES9ml4JXy4HK"
      },
      "execution_count": null,
      "outputs": []
    },
    {
      "cell_type": "code",
      "source": [
        "print(\"Shape of our data\", df.shape)"
      ],
      "metadata": {
        "colab": {
          "base_uri": "https://localhost:8080/"
        },
        "id": "7m6PXNE3h30a",
        "outputId": "7e417bd1-77b8-4be2-b055-3ea933b04229"
      },
      "execution_count": null,
      "outputs": [
        {
          "output_type": "stream",
          "name": "stdout",
          "text": [
            "Shape of our data (39775, 172)\n"
          ]
        }
      ]
    },
    {
      "cell_type": "code",
      "source": [
        "df.describe()"
      ],
      "metadata": {
        "colab": {
          "base_uri": "https://localhost:8080/",
          "height": 394
        },
        "id": "W6gAzo5yjktG",
        "outputId": "2455ea2f-f7bb-4aad-ba3e-2ac3623f746a"
      },
      "execution_count": null,
      "outputs": [
        {
          "output_type": "execute_result",
          "data": {
            "text/plain": [
              "                Q1A           Q1I           Q1E           Q2A           Q2I  \\\n",
              "count  39775.000000  39775.000000  3.977500e+04  39775.000000  39775.000000   \n",
              "mean       2.619485     21.555977  6.970591e+03      2.172269     21.248070   \n",
              "std        1.032117     12.133621  8.670513e+04      1.111563     12.125288   \n",
              "min        1.000000      1.000000  1.800000e+02      1.000000      1.000000   \n",
              "25%        2.000000     11.000000  2.664000e+03      1.000000     11.000000   \n",
              "50%        3.000000     22.000000  3.609000e+03      2.000000     21.000000   \n",
              "75%        4.000000     32.000000  5.358000e+03      3.000000     32.000000   \n",
              "max        4.000000     42.000000  1.210228e+07      4.000000     42.000000   \n",
              "\n",
              "                Q2E           Q3A           Q3I           Q3E           Q4A  \\\n",
              "count  3.977500e+04  39775.000000  39775.000000  3.977500e+04  39775.000000   \n",
              "mean   5.332376e+03      2.226097     21.583004  7.426446e+03      1.950170   \n",
              "std    2.651361e+04      1.038526     12.115637  1.587024e+05      1.042218   \n",
              "min    1.760000e+02      1.000000      1.000000 -1.081400e+04      1.000000   \n",
              "25%    2.477000e+03      1.000000     11.000000  2.857000e+03      1.000000   \n",
              "50%    3.511000e+03      2.000000     22.000000  3.898000e+03      2.000000   \n",
              "75%    5.216000e+03      3.000000     32.000000  5.766000e+03      3.000000   \n",
              "max    2.161057e+06      4.000000     42.000000  2.858269e+07      4.000000   \n",
              "\n",
              "       ...           age    screensize  uniquenetworklocation         hand  \\\n",
              "count  ...  39775.000000  39775.000000           39775.000000  39775.00000   \n",
              "mean   ...     23.612168      1.274519               1.200025      1.13516   \n",
              "std    ...     21.581722      0.446277               0.400024      0.40030   \n",
              "min    ...     13.000000      1.000000               1.000000      0.00000   \n",
              "25%    ...     18.000000      1.000000               1.000000      1.00000   \n",
              "50%    ...     21.000000      1.000000               1.000000      1.00000   \n",
              "75%    ...     25.000000      2.000000               1.000000      1.00000   \n",
              "max    ...   1998.000000      2.000000               2.000000      3.00000   \n",
              "\n",
              "           religion   orientation          race         voted       married  \\\n",
              "count  39775.000000  39775.000000  39775.000000  39775.000000  39775.000000   \n",
              "mean       7.555852      1.642992     31.312885      1.705795      1.159547   \n",
              "std        3.554395      1.351362     25.871272      0.473388      0.445882   \n",
              "min        0.000000      0.000000     10.000000      0.000000      0.000000   \n",
              "25%        4.000000      1.000000     10.000000      1.000000      1.000000   \n",
              "50%       10.000000      1.000000     10.000000      2.000000      1.000000   \n",
              "75%       10.000000      2.000000     60.000000      2.000000      1.000000   \n",
              "max       12.000000      5.000000     70.000000      2.000000      3.000000   \n",
              "\n",
              "         familysize  \n",
              "count  39775.000000  \n",
              "mean       3.510270  \n",
              "std        2.141518  \n",
              "min        0.000000  \n",
              "25%        2.000000  \n",
              "50%        3.000000  \n",
              "75%        4.000000  \n",
              "max      133.000000  \n",
              "\n",
              "[8 rows x 170 columns]"
            ],
            "text/html": [
              "\n",
              "  <div id=\"df-5c6af1d2-9710-4304-a8a1-7d1083a31620\">\n",
              "    <div class=\"colab-df-container\">\n",
              "      <div>\n",
              "<style scoped>\n",
              "    .dataframe tbody tr th:only-of-type {\n",
              "        vertical-align: middle;\n",
              "    }\n",
              "\n",
              "    .dataframe tbody tr th {\n",
              "        vertical-align: top;\n",
              "    }\n",
              "\n",
              "    .dataframe thead th {\n",
              "        text-align: right;\n",
              "    }\n",
              "</style>\n",
              "<table border=\"1\" class=\"dataframe\">\n",
              "  <thead>\n",
              "    <tr style=\"text-align: right;\">\n",
              "      <th></th>\n",
              "      <th>Q1A</th>\n",
              "      <th>Q1I</th>\n",
              "      <th>Q1E</th>\n",
              "      <th>Q2A</th>\n",
              "      <th>Q2I</th>\n",
              "      <th>Q2E</th>\n",
              "      <th>Q3A</th>\n",
              "      <th>Q3I</th>\n",
              "      <th>Q3E</th>\n",
              "      <th>Q4A</th>\n",
              "      <th>...</th>\n",
              "      <th>age</th>\n",
              "      <th>screensize</th>\n",
              "      <th>uniquenetworklocation</th>\n",
              "      <th>hand</th>\n",
              "      <th>religion</th>\n",
              "      <th>orientation</th>\n",
              "      <th>race</th>\n",
              "      <th>voted</th>\n",
              "      <th>married</th>\n",
              "      <th>familysize</th>\n",
              "    </tr>\n",
              "  </thead>\n",
              "  <tbody>\n",
              "    <tr>\n",
              "      <th>count</th>\n",
              "      <td>39775.000000</td>\n",
              "      <td>39775.000000</td>\n",
              "      <td>3.977500e+04</td>\n",
              "      <td>39775.000000</td>\n",
              "      <td>39775.000000</td>\n",
              "      <td>3.977500e+04</td>\n",
              "      <td>39775.000000</td>\n",
              "      <td>39775.000000</td>\n",
              "      <td>3.977500e+04</td>\n",
              "      <td>39775.000000</td>\n",
              "      <td>...</td>\n",
              "      <td>39775.000000</td>\n",
              "      <td>39775.000000</td>\n",
              "      <td>39775.000000</td>\n",
              "      <td>39775.00000</td>\n",
              "      <td>39775.000000</td>\n",
              "      <td>39775.000000</td>\n",
              "      <td>39775.000000</td>\n",
              "      <td>39775.000000</td>\n",
              "      <td>39775.000000</td>\n",
              "      <td>39775.000000</td>\n",
              "    </tr>\n",
              "    <tr>\n",
              "      <th>mean</th>\n",
              "      <td>2.619485</td>\n",
              "      <td>21.555977</td>\n",
              "      <td>6.970591e+03</td>\n",
              "      <td>2.172269</td>\n",
              "      <td>21.248070</td>\n",
              "      <td>5.332376e+03</td>\n",
              "      <td>2.226097</td>\n",
              "      <td>21.583004</td>\n",
              "      <td>7.426446e+03</td>\n",
              "      <td>1.950170</td>\n",
              "      <td>...</td>\n",
              "      <td>23.612168</td>\n",
              "      <td>1.274519</td>\n",
              "      <td>1.200025</td>\n",
              "      <td>1.13516</td>\n",
              "      <td>7.555852</td>\n",
              "      <td>1.642992</td>\n",
              "      <td>31.312885</td>\n",
              "      <td>1.705795</td>\n",
              "      <td>1.159547</td>\n",
              "      <td>3.510270</td>\n",
              "    </tr>\n",
              "    <tr>\n",
              "      <th>std</th>\n",
              "      <td>1.032117</td>\n",
              "      <td>12.133621</td>\n",
              "      <td>8.670513e+04</td>\n",
              "      <td>1.111563</td>\n",
              "      <td>12.125288</td>\n",
              "      <td>2.651361e+04</td>\n",
              "      <td>1.038526</td>\n",
              "      <td>12.115637</td>\n",
              "      <td>1.587024e+05</td>\n",
              "      <td>1.042218</td>\n",
              "      <td>...</td>\n",
              "      <td>21.581722</td>\n",
              "      <td>0.446277</td>\n",
              "      <td>0.400024</td>\n",
              "      <td>0.40030</td>\n",
              "      <td>3.554395</td>\n",
              "      <td>1.351362</td>\n",
              "      <td>25.871272</td>\n",
              "      <td>0.473388</td>\n",
              "      <td>0.445882</td>\n",
              "      <td>2.141518</td>\n",
              "    </tr>\n",
              "    <tr>\n",
              "      <th>min</th>\n",
              "      <td>1.000000</td>\n",
              "      <td>1.000000</td>\n",
              "      <td>1.800000e+02</td>\n",
              "      <td>1.000000</td>\n",
              "      <td>1.000000</td>\n",
              "      <td>1.760000e+02</td>\n",
              "      <td>1.000000</td>\n",
              "      <td>1.000000</td>\n",
              "      <td>-1.081400e+04</td>\n",
              "      <td>1.000000</td>\n",
              "      <td>...</td>\n",
              "      <td>13.000000</td>\n",
              "      <td>1.000000</td>\n",
              "      <td>1.000000</td>\n",
              "      <td>0.00000</td>\n",
              "      <td>0.000000</td>\n",
              "      <td>0.000000</td>\n",
              "      <td>10.000000</td>\n",
              "      <td>0.000000</td>\n",
              "      <td>0.000000</td>\n",
              "      <td>0.000000</td>\n",
              "    </tr>\n",
              "    <tr>\n",
              "      <th>25%</th>\n",
              "      <td>2.000000</td>\n",
              "      <td>11.000000</td>\n",
              "      <td>2.664000e+03</td>\n",
              "      <td>1.000000</td>\n",
              "      <td>11.000000</td>\n",
              "      <td>2.477000e+03</td>\n",
              "      <td>1.000000</td>\n",
              "      <td>11.000000</td>\n",
              "      <td>2.857000e+03</td>\n",
              "      <td>1.000000</td>\n",
              "      <td>...</td>\n",
              "      <td>18.000000</td>\n",
              "      <td>1.000000</td>\n",
              "      <td>1.000000</td>\n",
              "      <td>1.00000</td>\n",
              "      <td>4.000000</td>\n",
              "      <td>1.000000</td>\n",
              "      <td>10.000000</td>\n",
              "      <td>1.000000</td>\n",
              "      <td>1.000000</td>\n",
              "      <td>2.000000</td>\n",
              "    </tr>\n",
              "    <tr>\n",
              "      <th>50%</th>\n",
              "      <td>3.000000</td>\n",
              "      <td>22.000000</td>\n",
              "      <td>3.609000e+03</td>\n",
              "      <td>2.000000</td>\n",
              "      <td>21.000000</td>\n",
              "      <td>3.511000e+03</td>\n",
              "      <td>2.000000</td>\n",
              "      <td>22.000000</td>\n",
              "      <td>3.898000e+03</td>\n",
              "      <td>2.000000</td>\n",
              "      <td>...</td>\n",
              "      <td>21.000000</td>\n",
              "      <td>1.000000</td>\n",
              "      <td>1.000000</td>\n",
              "      <td>1.00000</td>\n",
              "      <td>10.000000</td>\n",
              "      <td>1.000000</td>\n",
              "      <td>10.000000</td>\n",
              "      <td>2.000000</td>\n",
              "      <td>1.000000</td>\n",
              "      <td>3.000000</td>\n",
              "    </tr>\n",
              "    <tr>\n",
              "      <th>75%</th>\n",
              "      <td>4.000000</td>\n",
              "      <td>32.000000</td>\n",
              "      <td>5.358000e+03</td>\n",
              "      <td>3.000000</td>\n",
              "      <td>32.000000</td>\n",
              "      <td>5.216000e+03</td>\n",
              "      <td>3.000000</td>\n",
              "      <td>32.000000</td>\n",
              "      <td>5.766000e+03</td>\n",
              "      <td>3.000000</td>\n",
              "      <td>...</td>\n",
              "      <td>25.000000</td>\n",
              "      <td>2.000000</td>\n",
              "      <td>1.000000</td>\n",
              "      <td>1.00000</td>\n",
              "      <td>10.000000</td>\n",
              "      <td>2.000000</td>\n",
              "      <td>60.000000</td>\n",
              "      <td>2.000000</td>\n",
              "      <td>1.000000</td>\n",
              "      <td>4.000000</td>\n",
              "    </tr>\n",
              "    <tr>\n",
              "      <th>max</th>\n",
              "      <td>4.000000</td>\n",
              "      <td>42.000000</td>\n",
              "      <td>1.210228e+07</td>\n",
              "      <td>4.000000</td>\n",
              "      <td>42.000000</td>\n",
              "      <td>2.161057e+06</td>\n",
              "      <td>4.000000</td>\n",
              "      <td>42.000000</td>\n",
              "      <td>2.858269e+07</td>\n",
              "      <td>4.000000</td>\n",
              "      <td>...</td>\n",
              "      <td>1998.000000</td>\n",
              "      <td>2.000000</td>\n",
              "      <td>2.000000</td>\n",
              "      <td>3.00000</td>\n",
              "      <td>12.000000</td>\n",
              "      <td>5.000000</td>\n",
              "      <td>70.000000</td>\n",
              "      <td>2.000000</td>\n",
              "      <td>3.000000</td>\n",
              "      <td>133.000000</td>\n",
              "    </tr>\n",
              "  </tbody>\n",
              "</table>\n",
              "<p>8 rows × 170 columns</p>\n",
              "</div>\n",
              "      <button class=\"colab-df-convert\" onclick=\"convertToInteractive('df-5c6af1d2-9710-4304-a8a1-7d1083a31620')\"\n",
              "              title=\"Convert this dataframe to an interactive table.\"\n",
              "              style=\"display:none;\">\n",
              "        \n",
              "  <svg xmlns=\"http://www.w3.org/2000/svg\" height=\"24px\"viewBox=\"0 0 24 24\"\n",
              "       width=\"24px\">\n",
              "    <path d=\"M0 0h24v24H0V0z\" fill=\"none\"/>\n",
              "    <path d=\"M18.56 5.44l.94 2.06.94-2.06 2.06-.94-2.06-.94-.94-2.06-.94 2.06-2.06.94zm-11 1L8.5 8.5l.94-2.06 2.06-.94-2.06-.94L8.5 2.5l-.94 2.06-2.06.94zm10 10l.94 2.06.94-2.06 2.06-.94-2.06-.94-.94-2.06-.94 2.06-2.06.94z\"/><path d=\"M17.41 7.96l-1.37-1.37c-.4-.4-.92-.59-1.43-.59-.52 0-1.04.2-1.43.59L10.3 9.45l-7.72 7.72c-.78.78-.78 2.05 0 2.83L4 21.41c.39.39.9.59 1.41.59.51 0 1.02-.2 1.41-.59l7.78-7.78 2.81-2.81c.8-.78.8-2.07 0-2.86zM5.41 20L4 18.59l7.72-7.72 1.47 1.35L5.41 20z\"/>\n",
              "  </svg>\n",
              "      </button>\n",
              "      \n",
              "  <style>\n",
              "    .colab-df-container {\n",
              "      display:flex;\n",
              "      flex-wrap:wrap;\n",
              "      gap: 12px;\n",
              "    }\n",
              "\n",
              "    .colab-df-convert {\n",
              "      background-color: #E8F0FE;\n",
              "      border: none;\n",
              "      border-radius: 50%;\n",
              "      cursor: pointer;\n",
              "      display: none;\n",
              "      fill: #1967D2;\n",
              "      height: 32px;\n",
              "      padding: 0 0 0 0;\n",
              "      width: 32px;\n",
              "    }\n",
              "\n",
              "    .colab-df-convert:hover {\n",
              "      background-color: #E2EBFA;\n",
              "      box-shadow: 0px 1px 2px rgba(60, 64, 67, 0.3), 0px 1px 3px 1px rgba(60, 64, 67, 0.15);\n",
              "      fill: #174EA6;\n",
              "    }\n",
              "\n",
              "    [theme=dark] .colab-df-convert {\n",
              "      background-color: #3B4455;\n",
              "      fill: #D2E3FC;\n",
              "    }\n",
              "\n",
              "    [theme=dark] .colab-df-convert:hover {\n",
              "      background-color: #434B5C;\n",
              "      box-shadow: 0px 1px 3px 1px rgba(0, 0, 0, 0.15);\n",
              "      filter: drop-shadow(0px 1px 2px rgba(0, 0, 0, 0.3));\n",
              "      fill: #FFFFFF;\n",
              "    }\n",
              "  </style>\n",
              "\n",
              "      <script>\n",
              "        const buttonEl =\n",
              "          document.querySelector('#df-5c6af1d2-9710-4304-a8a1-7d1083a31620 button.colab-df-convert');\n",
              "        buttonEl.style.display =\n",
              "          google.colab.kernel.accessAllowed ? 'block' : 'none';\n",
              "\n",
              "        async function convertToInteractive(key) {\n",
              "          const element = document.querySelector('#df-5c6af1d2-9710-4304-a8a1-7d1083a31620');\n",
              "          const dataTable =\n",
              "            await google.colab.kernel.invokeFunction('convertToInteractive',\n",
              "                                                     [key], {});\n",
              "          if (!dataTable) return;\n",
              "\n",
              "          const docLinkHtml = 'Like what you see? Visit the ' +\n",
              "            '<a target=\"_blank\" href=https://colab.research.google.com/notebooks/data_table.ipynb>data table notebook</a>'\n",
              "            + ' to learn more about interactive tables.';\n",
              "          element.innerHTML = '';\n",
              "          dataTable['output_type'] = 'display_data';\n",
              "          await google.colab.output.renderOutput(dataTable, element);\n",
              "          const docLink = document.createElement('div');\n",
              "          docLink.innerHTML = docLinkHtml;\n",
              "          element.appendChild(docLink);\n",
              "        }\n",
              "      </script>\n",
              "    </div>\n",
              "  </div>\n",
              "  "
            ]
          },
          "metadata": {},
          "execution_count": 8
        }
      ]
    },
    {
      "cell_type": "markdown",
      "source": [
        "Removing these value as these are extra information collected with survey"
      ],
      "metadata": {
        "id": "rGeIwAmhLEv_"
      }
    },
    {
      "cell_type": "code",
      "source": [
        "removedFeatures = [f'Q{i}E' for i in range(1, 43)]\n",
        "removedFeatures.extend([f'Q{i}I' for i in range(1, 43)])\n",
        "removedFeatures.extend([f'VCL{i}' for i in range(1, 17)])\n",
        "removedFeatures.extend([ 'source', 'introelapse', 'testelapse', 'surveyelapse', 'engnat', 'hand', 'orientation',\n",
        "    'voted', 'country', 'screensize', 'uniquenetworklocation'])\n",
        "\n",
        "# remove features from the dataset\n",
        "depression = df.drop(removedFeatures, axis=1)"
      ],
      "metadata": {
        "id": "bQAKCyFxbkkm"
      },
      "execution_count": null,
      "outputs": []
    },
    {
      "cell_type": "code",
      "source": [
        "depression.head()"
      ],
      "metadata": {
        "colab": {
          "base_uri": "https://localhost:8080/",
          "height": 236
        },
        "id": "po1JqCR_hmuZ",
        "outputId": "c6819702-c2fb-4555-c5a6-2e68fcbe1ce6"
      },
      "execution_count": null,
      "outputs": [
        {
          "output_type": "execute_result",
          "data": {
            "text/plain": [
              "   Q1A  Q2A  Q3A  Q4A  Q5A  Q6A  Q7A  Q8A  Q9A  Q10A  ...  TIPI10  education  \\\n",
              "0    4    4    2    4    4    4    4    4    2     1  ...       1          2   \n",
              "1    4    1    2    3    4    4    3    4    3     2  ...       5          2   \n",
              "2    3    1    4    1    4    3    1    3    2     4  ...       2          2   \n",
              "3    2    3    2    1    3    3    4    2    3     3  ...       1          1   \n",
              "4    2    2    3    4    4    2    4    4    4     3  ...       3          3   \n",
              "\n",
              "   urban  gender  age  religion  race  married  familysize       major  \n",
              "0      3       2   16        12    10        1           2         NaN  \n",
              "1      3       2   16         7    70        1           4         NaN  \n",
              "2      3       2   17         4    60        1           3         NaN  \n",
              "3      3       2   13         4    70        1           5     biology  \n",
              "4      2       2   19        10    10        1           4  Psychology  \n",
              "\n",
              "[5 rows x 61 columns]"
            ],
            "text/html": [
              "\n",
              "  <div id=\"df-2a453179-efc0-4338-85a4-43612dee46e9\">\n",
              "    <div class=\"colab-df-container\">\n",
              "      <div>\n",
              "<style scoped>\n",
              "    .dataframe tbody tr th:only-of-type {\n",
              "        vertical-align: middle;\n",
              "    }\n",
              "\n",
              "    .dataframe tbody tr th {\n",
              "        vertical-align: top;\n",
              "    }\n",
              "\n",
              "    .dataframe thead th {\n",
              "        text-align: right;\n",
              "    }\n",
              "</style>\n",
              "<table border=\"1\" class=\"dataframe\">\n",
              "  <thead>\n",
              "    <tr style=\"text-align: right;\">\n",
              "      <th></th>\n",
              "      <th>Q1A</th>\n",
              "      <th>Q2A</th>\n",
              "      <th>Q3A</th>\n",
              "      <th>Q4A</th>\n",
              "      <th>Q5A</th>\n",
              "      <th>Q6A</th>\n",
              "      <th>Q7A</th>\n",
              "      <th>Q8A</th>\n",
              "      <th>Q9A</th>\n",
              "      <th>Q10A</th>\n",
              "      <th>...</th>\n",
              "      <th>TIPI10</th>\n",
              "      <th>education</th>\n",
              "      <th>urban</th>\n",
              "      <th>gender</th>\n",
              "      <th>age</th>\n",
              "      <th>religion</th>\n",
              "      <th>race</th>\n",
              "      <th>married</th>\n",
              "      <th>familysize</th>\n",
              "      <th>major</th>\n",
              "    </tr>\n",
              "  </thead>\n",
              "  <tbody>\n",
              "    <tr>\n",
              "      <th>0</th>\n",
              "      <td>4</td>\n",
              "      <td>4</td>\n",
              "      <td>2</td>\n",
              "      <td>4</td>\n",
              "      <td>4</td>\n",
              "      <td>4</td>\n",
              "      <td>4</td>\n",
              "      <td>4</td>\n",
              "      <td>2</td>\n",
              "      <td>1</td>\n",
              "      <td>...</td>\n",
              "      <td>1</td>\n",
              "      <td>2</td>\n",
              "      <td>3</td>\n",
              "      <td>2</td>\n",
              "      <td>16</td>\n",
              "      <td>12</td>\n",
              "      <td>10</td>\n",
              "      <td>1</td>\n",
              "      <td>2</td>\n",
              "      <td>NaN</td>\n",
              "    </tr>\n",
              "    <tr>\n",
              "      <th>1</th>\n",
              "      <td>4</td>\n",
              "      <td>1</td>\n",
              "      <td>2</td>\n",
              "      <td>3</td>\n",
              "      <td>4</td>\n",
              "      <td>4</td>\n",
              "      <td>3</td>\n",
              "      <td>4</td>\n",
              "      <td>3</td>\n",
              "      <td>2</td>\n",
              "      <td>...</td>\n",
              "      <td>5</td>\n",
              "      <td>2</td>\n",
              "      <td>3</td>\n",
              "      <td>2</td>\n",
              "      <td>16</td>\n",
              "      <td>7</td>\n",
              "      <td>70</td>\n",
              "      <td>1</td>\n",
              "      <td>4</td>\n",
              "      <td>NaN</td>\n",
              "    </tr>\n",
              "    <tr>\n",
              "      <th>2</th>\n",
              "      <td>3</td>\n",
              "      <td>1</td>\n",
              "      <td>4</td>\n",
              "      <td>1</td>\n",
              "      <td>4</td>\n",
              "      <td>3</td>\n",
              "      <td>1</td>\n",
              "      <td>3</td>\n",
              "      <td>2</td>\n",
              "      <td>4</td>\n",
              "      <td>...</td>\n",
              "      <td>2</td>\n",
              "      <td>2</td>\n",
              "      <td>3</td>\n",
              "      <td>2</td>\n",
              "      <td>17</td>\n",
              "      <td>4</td>\n",
              "      <td>60</td>\n",
              "      <td>1</td>\n",
              "      <td>3</td>\n",
              "      <td>NaN</td>\n",
              "    </tr>\n",
              "    <tr>\n",
              "      <th>3</th>\n",
              "      <td>2</td>\n",
              "      <td>3</td>\n",
              "      <td>2</td>\n",
              "      <td>1</td>\n",
              "      <td>3</td>\n",
              "      <td>3</td>\n",
              "      <td>4</td>\n",
              "      <td>2</td>\n",
              "      <td>3</td>\n",
              "      <td>3</td>\n",
              "      <td>...</td>\n",
              "      <td>1</td>\n",
              "      <td>1</td>\n",
              "      <td>3</td>\n",
              "      <td>2</td>\n",
              "      <td>13</td>\n",
              "      <td>4</td>\n",
              "      <td>70</td>\n",
              "      <td>1</td>\n",
              "      <td>5</td>\n",
              "      <td>biology</td>\n",
              "    </tr>\n",
              "    <tr>\n",
              "      <th>4</th>\n",
              "      <td>2</td>\n",
              "      <td>2</td>\n",
              "      <td>3</td>\n",
              "      <td>4</td>\n",
              "      <td>4</td>\n",
              "      <td>2</td>\n",
              "      <td>4</td>\n",
              "      <td>4</td>\n",
              "      <td>4</td>\n",
              "      <td>3</td>\n",
              "      <td>...</td>\n",
              "      <td>3</td>\n",
              "      <td>3</td>\n",
              "      <td>2</td>\n",
              "      <td>2</td>\n",
              "      <td>19</td>\n",
              "      <td>10</td>\n",
              "      <td>10</td>\n",
              "      <td>1</td>\n",
              "      <td>4</td>\n",
              "      <td>Psychology</td>\n",
              "    </tr>\n",
              "  </tbody>\n",
              "</table>\n",
              "<p>5 rows × 61 columns</p>\n",
              "</div>\n",
              "      <button class=\"colab-df-convert\" onclick=\"convertToInteractive('df-2a453179-efc0-4338-85a4-43612dee46e9')\"\n",
              "              title=\"Convert this dataframe to an interactive table.\"\n",
              "              style=\"display:none;\">\n",
              "        \n",
              "  <svg xmlns=\"http://www.w3.org/2000/svg\" height=\"24px\"viewBox=\"0 0 24 24\"\n",
              "       width=\"24px\">\n",
              "    <path d=\"M0 0h24v24H0V0z\" fill=\"none\"/>\n",
              "    <path d=\"M18.56 5.44l.94 2.06.94-2.06 2.06-.94-2.06-.94-.94-2.06-.94 2.06-2.06.94zm-11 1L8.5 8.5l.94-2.06 2.06-.94-2.06-.94L8.5 2.5l-.94 2.06-2.06.94zm10 10l.94 2.06.94-2.06 2.06-.94-2.06-.94-.94-2.06-.94 2.06-2.06.94z\"/><path d=\"M17.41 7.96l-1.37-1.37c-.4-.4-.92-.59-1.43-.59-.52 0-1.04.2-1.43.59L10.3 9.45l-7.72 7.72c-.78.78-.78 2.05 0 2.83L4 21.41c.39.39.9.59 1.41.59.51 0 1.02-.2 1.41-.59l7.78-7.78 2.81-2.81c.8-.78.8-2.07 0-2.86zM5.41 20L4 18.59l7.72-7.72 1.47 1.35L5.41 20z\"/>\n",
              "  </svg>\n",
              "      </button>\n",
              "      \n",
              "  <style>\n",
              "    .colab-df-container {\n",
              "      display:flex;\n",
              "      flex-wrap:wrap;\n",
              "      gap: 12px;\n",
              "    }\n",
              "\n",
              "    .colab-df-convert {\n",
              "      background-color: #E8F0FE;\n",
              "      border: none;\n",
              "      border-radius: 50%;\n",
              "      cursor: pointer;\n",
              "      display: none;\n",
              "      fill: #1967D2;\n",
              "      height: 32px;\n",
              "      padding: 0 0 0 0;\n",
              "      width: 32px;\n",
              "    }\n",
              "\n",
              "    .colab-df-convert:hover {\n",
              "      background-color: #E2EBFA;\n",
              "      box-shadow: 0px 1px 2px rgba(60, 64, 67, 0.3), 0px 1px 3px 1px rgba(60, 64, 67, 0.15);\n",
              "      fill: #174EA6;\n",
              "    }\n",
              "\n",
              "    [theme=dark] .colab-df-convert {\n",
              "      background-color: #3B4455;\n",
              "      fill: #D2E3FC;\n",
              "    }\n",
              "\n",
              "    [theme=dark] .colab-df-convert:hover {\n",
              "      background-color: #434B5C;\n",
              "      box-shadow: 0px 1px 3px 1px rgba(0, 0, 0, 0.15);\n",
              "      filter: drop-shadow(0px 1px 2px rgba(0, 0, 0, 0.3));\n",
              "      fill: #FFFFFF;\n",
              "    }\n",
              "  </style>\n",
              "\n",
              "      <script>\n",
              "        const buttonEl =\n",
              "          document.querySelector('#df-2a453179-efc0-4338-85a4-43612dee46e9 button.colab-df-convert');\n",
              "        buttonEl.style.display =\n",
              "          google.colab.kernel.accessAllowed ? 'block' : 'none';\n",
              "\n",
              "        async function convertToInteractive(key) {\n",
              "          const element = document.querySelector('#df-2a453179-efc0-4338-85a4-43612dee46e9');\n",
              "          const dataTable =\n",
              "            await google.colab.kernel.invokeFunction('convertToInteractive',\n",
              "                                                     [key], {});\n",
              "          if (!dataTable) return;\n",
              "\n",
              "          const docLinkHtml = 'Like what you see? Visit the ' +\n",
              "            '<a target=\"_blank\" href=https://colab.research.google.com/notebooks/data_table.ipynb>data table notebook</a>'\n",
              "            + ' to learn more about interactive tables.';\n",
              "          element.innerHTML = '';\n",
              "          dataTable['output_type'] = 'display_data';\n",
              "          await google.colab.output.renderOutput(dataTable, element);\n",
              "          const docLink = document.createElement('div');\n",
              "          docLink.innerHTML = docLinkHtml;\n",
              "          element.appendChild(docLink);\n",
              "        }\n",
              "      </script>\n",
              "    </div>\n",
              "  </div>\n",
              "  "
            ]
          },
          "metadata": {},
          "execution_count": 10
        }
      ]
    },
    {
      "cell_type": "markdown",
      "source": [
        "## Analysing missing value in dataframe"
      ],
      "metadata": {
        "id": "AJ8BlUwdwHXT"
      }
    },
    {
      "cell_type": "code",
      "source": [
        "# get the number of missing data points per column\n",
        "missing_value_count = (depression.isnull().sum())\n",
        "print(missing_value_count[missing_value_count > 0])\n",
        "# percent of data that is missing\n",
        "total_cells = np.product(depression.shape)\n",
        "total_missing_value = missing_value_count.sum()\n",
        "print('Percentage of missing value in Data Frame is: ',total_missing_value / total_cells *100 )\n",
        "print('Total number of our cells is :',total_cells)\n",
        "print('Total number of our missing value is :',total_missing_value)"
      ],
      "metadata": {
        "colab": {
          "base_uri": "https://localhost:8080/"
        },
        "id": "A0NpORwmuRaY",
        "outputId": "2092c1f3-76c8-4c14-ec17-b952ff57f53a"
      },
      "execution_count": null,
      "outputs": [
        {
          "output_type": "stream",
          "name": "stdout",
          "text": [
            "major    11403\n",
            "dtype: int64\n",
            "Percentage of missing value in Data Frame is:  0.4699797013941124\n",
            "Total number of our cells is : 2426275\n",
            "Total number of our missing value is : 11403\n"
          ]
        }
      ]
    },
    {
      "cell_type": "code",
      "source": [
        "depression.drop('major', inplace=True, axis=1)"
      ],
      "metadata": {
        "id": "Qmx5YvltqvYI"
      },
      "execution_count": null,
      "outputs": []
    },
    {
      "cell_type": "code",
      "source": [
        "print(\"New shape of our data\", depression.shape)"
      ],
      "metadata": {
        "colab": {
          "base_uri": "https://localhost:8080/"
        },
        "id": "4SYEOE3Su9n0",
        "outputId": "1d96bcd0-e702-4342-aaf7-e5997c1f608e"
      },
      "execution_count": null,
      "outputs": [
        {
          "output_type": "stream",
          "name": "stdout",
          "text": [
            "New shape of our data (39775, 60)\n"
          ]
        }
      ]
    },
    {
      "cell_type": "markdown",
      "source": [
        "Description, 1=Agnostic, 2=Atheist, 3=Buddhist, 4=Christian (Catholic), 5=Christian (Mormon), 6=Christian (Protestant), 7=Christian (Other), 8=Hindu, 9=Jewish, 10=Muslim, 11=Sikh, 12=Other"
      ],
      "metadata": {
        "id": "wdGIrWjxyFuM"
      }
    },
    {
      "cell_type": "code",
      "source": [
        "depression['religion'].value_counts()"
      ],
      "metadata": {
        "colab": {
          "base_uri": "https://localhost:8080/"
        },
        "id": "2PcUHm0Ou9qg",
        "outputId": "a40cc45e-5b8d-48e9-8b2e-26cd7eb0c8c8"
      },
      "execution_count": null,
      "outputs": [
        {
          "output_type": "execute_result",
          "data": {
            "text/plain": [
              "10    22073\n",
              "2      3845\n",
              "1      3245\n",
              "4      3097\n",
              "7      2254\n",
              "12     1804\n",
              "6      1544\n",
              "8       700\n",
              "3       527\n",
              "0       356\n",
              "9       144\n",
              "5       122\n",
              "11       64\n",
              "Name: religion, dtype: int64"
            ]
          },
          "metadata": {},
          "execution_count": 14
        }
      ]
    },
    {
      "cell_type": "code",
      "source": [
        "sns.histplot(data=depression, x=\"religion\")\n",
        "plt.show()"
      ],
      "metadata": {
        "colab": {
          "base_uri": "https://localhost:8080/",
          "height": 449
        },
        "id": "ppq94msOu9sr",
        "outputId": "f1253182-7392-467a-f6e3-5c812f8d100c"
      },
      "execution_count": null,
      "outputs": [
        {
          "output_type": "display_data",
          "data": {
            "text/plain": [
              "<Figure size 640x480 with 1 Axes>"
            ],
            "image/png": "[encoded data removed]"
          },
          "metadata": {}
        }
      ]
    },
    {
      "cell_type": "markdown",
      "source": [
        "encoding the religion variable to become same"
      ],
      "metadata": {
        "id": "ekItJZbuUN2e"
      }
    },
    {
      "cell_type": "code",
      "source": [
        "depression['age'].value_counts()"
      ],
      "metadata": {
        "colab": {
          "base_uri": "https://localhost:8080/"
        },
        "id": "gkCVeKuKu9vY",
        "outputId": "1785ea43-797e-4b93-dcfa-c038d65fca34"
      },
      "execution_count": null,
      "outputs": [
        {
          "output_type": "execute_result",
          "data": {
            "text/plain": [
              "20      3789\n",
              "21      3535\n",
              "19      3510\n",
              "18      3046\n",
              "22      3009\n",
              "        ... \n",
              "89         1\n",
              "1996       1\n",
              "223        1\n",
              "78         1\n",
              "99         1\n",
              "Name: age, Length: 79, dtype: int64"
            ]
          },
          "metadata": {},
          "execution_count": 16
        }
      ]
    },
    {
      "cell_type": "code",
      "source": [
        "str(list(set(depression['age'].to_list())))"
      ],
      "metadata": {
        "colab": {
          "base_uri": "https://localhost:8080/",
          "height": 52
        },
        "id": "-S4on0mt57C_",
        "outputId": "d60df97d-c836-4cfe-dc26-5362c2177407"
      },
      "execution_count": null,
      "outputs": [
        {
          "output_type": "execute_result",
          "data": {
            "text/plain": [
              "'[13, 14, 15, 16, 17, 18, 19, 20, 21, 22, 23, 24, 25, 26, 27, 28, 29, 30, 31, 32, 33, 34, 35, 36, 37, 38, 39, 40, 41, 42, 43, 44, 45, 46, 47, 48, 49, 50, 51, 52, 53, 54, 55, 56, 57, 58, 59, 60, 61, 62, 63, 64, 65, 66, 67, 68, 69, 70, 71, 72, 73, 74, 75, 76, 77, 78, 79, 80, 82, 85, 89, 99, 115, 117, 223, 1991, 1993, 1996, 1998]'"
            ],
            "application/vnd.google.colaboratory.intrinsic+json": {
              "type": "string"
            }
          },
          "metadata": {},
          "execution_count": 17
        }
      ]
    },
    {
      "cell_type": "markdown",
      "source": [
        "since there are wrong value in age"
      ],
      "metadata": {
        "id": "AzSQFIEh6m5x"
      }
    },
    {
      "cell_type": "code",
      "source": [
        "# print missing ages\n",
        "missing_ages = depression[depression['age'] >100]\n",
        "missing_ages['age']"
      ],
      "metadata": {
        "colab": {
          "base_uri": "https://localhost:8080/"
        },
        "id": "m5Pb2TTF6lEt",
        "outputId": "009d0886-1867-4a75-cf02-505e918fc588"
      },
      "execution_count": null,
      "outputs": [
        {
          "output_type": "execute_result",
          "data": {
            "text/plain": [
              "5340      223\n",
              "10231    1996\n",
              "14236     117\n",
              "21383    1998\n",
              "24898     115\n",
              "30027    1993\n",
              "33730    1991\n",
              "Name: age, dtype: int64"
            ]
          },
          "metadata": {},
          "execution_count": 18
        }
      ]
    },
    {
      "cell_type": "code",
      "source": [
        "# delete missing ages\n",
        "depression.drop(missing_ages['age'].index,axis=0,inplace=True)\n",
        "df.drop(missing_ages['age'].index,axis=0,inplace=True)\n",
        "depression.shape"
      ],
      "metadata": {
        "colab": {
          "base_uri": "https://localhost:8080/"
        },
        "id": "7itA0MSH64ZU",
        "outputId": "fa2b5d52-2877-4034-f0b0-0fb3e0adef70"
      },
      "execution_count": null,
      "outputs": [
        {
          "output_type": "execute_result",
          "data": {
            "text/plain": [
              "(39768, 60)"
            ]
          },
          "metadata": {},
          "execution_count": 19
        }
      ]
    },
    {
      "cell_type": "code",
      "source": [
        "sns.histplot(data=depression, x=\"age\")\n",
        "plt.show()"
      ],
      "metadata": {
        "colab": {
          "base_uri": "https://localhost:8080/",
          "height": 449
        },
        "id": "o1yLCCN44YAv",
        "outputId": "43ca33f9-586f-41d4-90d5-1bf3fe64ac8a"
      },
      "execution_count": null,
      "outputs": [
        {
          "output_type": "display_data",
          "data": {
            "text/plain": [
              "<Figure size 640x480 with 1 Axes>"
            ],
            "image/png": "[encoded data removed]"
          },
          "metadata": {}
        }
      ]
    },
    {
      "cell_type": "code",
      "source": [
        "sns.boxplot(depression[\"age\"],  fliersize=5)"
      ],
      "metadata": {
        "colab": {
          "base_uri": "https://localhost:8080/",
          "height": 447
        },
        "id": "dR6SaZrP9HrN",
        "outputId": "aa1b5353-61a5-4a87-eb2f-79ef48521bb6"
      },
      "execution_count": null,
      "outputs": [
        {
          "output_type": "execute_result",
          "data": {
            "text/plain": [
              "<Axes: >"
            ]
          },
          "metadata": {},
          "execution_count": 21
        },
        {
          "output_type": "display_data",
          "data": {
            "text/plain": [
              "<Figure size 640x480 with 1 Axes>"
            ],
            "image/png": "[encoded data removed]"
          },
          "metadata": {}
        }
      ]
    },
    {
      "cell_type": "code",
      "source": [
        "depression[\"age\"].describe()"
      ],
      "metadata": {
        "colab": {
          "base_uri": "https://localhost:8080/"
        },
        "id": "YblKnzaS4YDi",
        "outputId": "5495bdce-ade7-4308-b515-dd0149772d14"
      },
      "execution_count": null,
      "outputs": [
        {
          "output_type": "execute_result",
          "data": {
            "text/plain": [
              "count    39768.000000\n",
              "mean        23.404270\n",
              "std          8.582769\n",
              "min         13.000000\n",
              "25%         18.000000\n",
              "50%         21.000000\n",
              "75%         25.000000\n",
              "max         99.000000\n",
              "Name: age, dtype: float64"
            ]
          },
          "metadata": {},
          "execution_count": 22
        }
      ]
    },
    {
      "cell_type": "code",
      "source": [
        "print('minimum age :-', depression[\"age\"].describe()['min'])\n",
        "print('maximum age :-', depression[\"age\"].describe()['max'])\n",
        "print('mean age :-', depression[\"age\"].describe()['mean'])"
      ],
      "metadata": {
        "colab": {
          "base_uri": "https://localhost:8080/"
        },
        "id": "rIMXBVM94YGE",
        "outputId": "3e540614-435c-4d4a-d2b4-f23a17cc3b2f"
      },
      "execution_count": null,
      "outputs": [
        {
          "output_type": "stream",
          "name": "stdout",
          "text": [
            "minimum age :- 13.0\n",
            "maximum age :- 99.0\n",
            "mean age :- 23.404269764634883\n"
          ]
        }
      ]
    },
    {
      "cell_type": "code",
      "source": [
        "depression['familysize'].value_counts()"
      ],
      "metadata": {
        "colab": {
          "base_uri": "https://localhost:8080/"
        },
        "id": "9LbPxWnW4Y_1",
        "outputId": "4ee2d169-8819-45a2-e9a8-57f5ee3593cf"
      },
      "execution_count": null,
      "outputs": [
        {
          "output_type": "execute_result",
          "data": {
            "text/plain": [
              "3      9204\n",
              "2      9016\n",
              "4      7538\n",
              "5      4829\n",
              "1      2946\n",
              "6      2449\n",
              "7      1243\n",
              "0      1125\n",
              "8       676\n",
              "9       331\n",
              "10      195\n",
              "11      109\n",
              "12       56\n",
              "13       19\n",
              "14        8\n",
              "15        6\n",
              "16        5\n",
              "17        3\n",
              "24        1\n",
              "23        1\n",
              "21        1\n",
              "19        1\n",
              "62        1\n",
              "26        1\n",
              "65        1\n",
              "54        1\n",
              "99        1\n",
              "133       1\n",
              "Name: familysize, dtype: int64"
            ]
          },
          "metadata": {},
          "execution_count": 24
        }
      ]
    },
    {
      "cell_type": "markdown",
      "source": [
        "As there are wrong values in age\n",
        "\n",
        "**Assuming not more than 10 people in family**"
      ],
      "metadata": {
        "id": "b6SWbVLl-GzC"
      }
    },
    {
      "cell_type": "code",
      "source": [
        "# print missing ages\n",
        "missing_val_family_size = depression[depression['familysize'] > 10]\n",
        "missing_val_family_size['familysize']"
      ],
      "metadata": {
        "colab": {
          "base_uri": "https://localhost:8080/"
        },
        "id": "VVdBseYe9uWU",
        "outputId": "a4668b73-176c-4763-a6d8-d57b8d1db97f"
      },
      "execution_count": null,
      "outputs": [
        {
          "output_type": "execute_result",
          "data": {
            "text/plain": [
              "98       12\n",
              "182      11\n",
              "446      13\n",
              "1161     12\n",
              "1174     62\n",
              "         ..\n",
              "38646    12\n",
              "39015    11\n",
              "39091    12\n",
              "39332    12\n",
              "39550    11\n",
              "Name: familysize, Length: 216, dtype: int64"
            ]
          },
          "metadata": {},
          "execution_count": 25
        }
      ]
    },
    {
      "cell_type": "code",
      "source": [
        "print('Total no wrong value',sum(missing_val_family_size['familysize'].to_list()))"
      ],
      "metadata": {
        "colab": {
          "base_uri": "https://localhost:8080/"
        },
        "id": "0BpZol0r-PK5",
        "outputId": "7779ffd0-f500-43f9-ba70-a10cc1b71051"
      },
      "execution_count": null,
      "outputs": [
        {
          "output_type": "stream",
          "name": "stdout",
          "text": [
            "Total no wrong value 2977\n"
          ]
        }
      ]
    },
    {
      "cell_type": "code",
      "source": [
        "# delete wrong values\n",
        "depression.drop(missing_val_family_size['familysize'].index,axis=0,inplace=True)\n",
        "df.drop(missing_val_family_size['familysize'].index,axis=0,inplace=True)\n",
        "depression.shape"
      ],
      "metadata": {
        "colab": {
          "base_uri": "https://localhost:8080/"
        },
        "outputId": "48f793a7-a7b9-46d9-d17a-ee56d1da93b8",
        "id": "hNDjctUdAOtX"
      },
      "execution_count": null,
      "outputs": [
        {
          "output_type": "execute_result",
          "data": {
            "text/plain": [
              "(39552, 60)"
            ]
          },
          "metadata": {},
          "execution_count": 27
        }
      ]
    },
    {
      "cell_type": "code",
      "source": [
        "sns.histplot(data=depression, x=\"familysize\")\n",
        "plt.show()"
      ],
      "metadata": {
        "colab": {
          "base_uri": "https://localhost:8080/",
          "height": 449
        },
        "id": "aLGLyGKn4ZEx",
        "outputId": "2ea949c6-be82-446f-bf64-f1af28981f26"
      },
      "execution_count": null,
      "outputs": [
        {
          "output_type": "display_data",
          "data": {
            "text/plain": [
              "<Figure size 640x480 with 1 Axes>"
            ],
            "image/png": "[encoded data removed]"
          },
          "metadata": {}
        }
      ]
    },
    {
      "cell_type": "code",
      "source": [
        "sns.boxplot(depression[\"familysize\"],  fliersize=5)"
      ],
      "metadata": {
        "colab": {
          "base_uri": "https://localhost:8080/",
          "height": 447
        },
        "id": "TITNyvjwQ99q",
        "outputId": "af9fde2f-30de-46ae-f250-581d84825055"
      },
      "execution_count": null,
      "outputs": [
        {
          "output_type": "execute_result",
          "data": {
            "text/plain": [
              "<Axes: >"
            ]
          },
          "metadata": {},
          "execution_count": 29
        },
        {
          "output_type": "display_data",
          "data": {
            "text/plain": [
              "<Figure size 640x480 with 1 Axes>"
            ],
            "image/png": "[encoded data removed]"
          },
          "metadata": {}
        }
      ]
    },
    {
      "cell_type": "code",
      "source": [
        "depression.columns"
      ],
      "metadata": {
        "colab": {
          "base_uri": "https://localhost:8080/"
        },
        "id": "ODtCuXfbAYxU",
        "outputId": "4939b728-2487-43ad-c8f0-d45a3948cb5a"
      },
      "execution_count": null,
      "outputs": [
        {
          "output_type": "execute_result",
          "data": {
            "text/plain": [
              "Index(['Q1A', 'Q2A', 'Q3A', 'Q4A', 'Q5A', 'Q6A', 'Q7A', 'Q8A', 'Q9A', 'Q10A',\n",
              "       'Q11A', 'Q12A', 'Q13A', 'Q14A', 'Q15A', 'Q16A', 'Q17A', 'Q18A', 'Q19A',\n",
              "       'Q20A', 'Q21A', 'Q22A', 'Q23A', 'Q24A', 'Q25A', 'Q26A', 'Q27A', 'Q28A',\n",
              "       'Q29A', 'Q30A', 'Q31A', 'Q32A', 'Q33A', 'Q34A', 'Q35A', 'Q36A', 'Q37A',\n",
              "       'Q38A', 'Q39A', 'Q40A', 'Q41A', 'Q42A', 'TIPI1', 'TIPI2', 'TIPI3',\n",
              "       'TIPI4', 'TIPI5', 'TIPI6', 'TIPI7', 'TIPI8', 'TIPI9', 'TIPI10',\n",
              "       'education', 'urban', 'gender', 'age', 'religion', 'race', 'married',\n",
              "       'familysize'],\n",
              "      dtype='object')"
            ]
          },
          "metadata": {},
          "execution_count": 30
        }
      ]
    },
    {
      "cell_type": "markdown",
      "source": [
        " Description, 1=Rural (country side), 2=Suburban, 3=Urban"
      ],
      "metadata": {
        "id": "_2RHRlcLN5Bk"
      }
    },
    {
      "cell_type": "code",
      "source": [
        "depression['urban'].value_counts()"
      ],
      "metadata": {
        "colab": {
          "base_uri": "https://localhost:8080/"
        },
        "id": "PaKrEMJWLpq5",
        "outputId": "de291217-f115-4dee-ee15-98b5f3f965f9"
      },
      "execution_count": null,
      "outputs": [
        {
          "output_type": "execute_result",
          "data": {
            "text/plain": [
              "3    17779\n",
              "2    13174\n",
              "1     8218\n",
              "0      381\n",
              "Name: urban, dtype: int64"
            ]
          },
          "metadata": {},
          "execution_count": 31
        }
      ]
    },
    {
      "cell_type": "markdown",
      "source": [
        "Description, 1=Male, 2=Female, 3=Other"
      ],
      "metadata": {
        "id": "Za5sEdw3CzL_"
      }
    },
    {
      "cell_type": "code",
      "source": [
        "depression['gender'].value_counts()"
      ],
      "metadata": {
        "colab": {
          "base_uri": "https://localhost:8080/"
        },
        "id": "tt_1vDzcAY0E",
        "outputId": "6397f18b-926a-4f95-8ddd-5959d50e68cf"
      },
      "execution_count": null,
      "outputs": [
        {
          "output_type": "execute_result",
          "data": {
            "text/plain": [
              "2    30191\n",
              "1     8746\n",
              "3      548\n",
              "0       67\n",
              "Name: gender, dtype: int64"
            ]
          },
          "metadata": {},
          "execution_count": 32
        }
      ]
    },
    {
      "cell_type": "markdown",
      "source": [
        "Description, 10=Asian, 20=Arab, 30=Black, 40=Indigenous Australian, 50=Native American, 60=White, 70=Other"
      ],
      "metadata": {
        "id": "o_CE9UGmC43g"
      }
    },
    {
      "cell_type": "code",
      "source": [
        "depression['race'].value_counts()"
      ],
      "metadata": {
        "colab": {
          "base_uri": "https://localhost:8080/"
        },
        "id": "bGDNvx2tBAaz",
        "outputId": "0a32d813-e260-4ca7-adf8-e12781ab54e1"
      },
      "execution_count": null,
      "outputs": [
        {
          "output_type": "execute_result",
          "data": {
            "text/plain": [
              "10    22933\n",
              "60    10643\n",
              "70     4805\n",
              "30      601\n",
              "20      330\n",
              "50      219\n",
              "40       21\n",
              "Name: race, dtype: int64"
            ]
          },
          "metadata": {},
          "execution_count": 33
        }
      ]
    },
    {
      "cell_type": "markdown",
      "source": [
        "Description, 1=Never married, 2=Currently married, 3=Previously married"
      ],
      "metadata": {
        "id": "VBoIyfW6C-4Z"
      }
    },
    {
      "cell_type": "code",
      "source": [
        "depression['married'].value_counts()"
      ],
      "metadata": {
        "colab": {
          "base_uri": "https://localhost:8080/"
        },
        "id": "T91a5ni0BAdb",
        "outputId": "6732de9d-04fb-4f32-e2f5-5391932c4915"
      },
      "execution_count": null,
      "outputs": [
        {
          "output_type": "execute_result",
          "data": {
            "text/plain": [
              "1    33959\n",
              "2     4316\n",
              "3     1083\n",
              "0      194\n",
              "Name: married, dtype: int64"
            ]
          },
          "metadata": {},
          "execution_count": 34
        }
      ]
    },
    {
      "cell_type": "markdown",
      "source": [
        "Description, 1=Less than high school, 2=High school, 3=University degree, 4=Graduate degree"
      ],
      "metadata": {
        "id": "uEqcHWGwDhSY"
      }
    },
    {
      "cell_type": "code",
      "source": [
        "depression['education'].value_counts()"
      ],
      "metadata": {
        "colab": {
          "base_uri": "https://localhost:8080/"
        },
        "id": "pcguTJL4AY3A",
        "outputId": "312a2c6f-9f90-40e2-def6-3cb896cbfa45"
      },
      "execution_count": null,
      "outputs": [
        {
          "output_type": "execute_result",
          "data": {
            "text/plain": [
              "3    15013\n",
              "2    15006\n",
              "4     4969\n",
              "1     4050\n",
              "0      514\n",
              "Name: education, dtype: int64"
            ]
          },
          "metadata": {},
          "execution_count": 35
        }
      ]
    },
    {
      "cell_type": "code",
      "source": [
        "depression.columns"
      ],
      "metadata": {
        "colab": {
          "base_uri": "https://localhost:8080/"
        },
        "id": "AkNxM_P_Yln8",
        "outputId": "68c086a5-ceb2-4008-c941-f5efc4ac5092"
      },
      "execution_count": null,
      "outputs": [
        {
          "output_type": "execute_result",
          "data": {
            "text/plain": [
              "Index(['Q1A', 'Q2A', 'Q3A', 'Q4A', 'Q5A', 'Q6A', 'Q7A', 'Q8A', 'Q9A', 'Q10A',\n",
              "       'Q11A', 'Q12A', 'Q13A', 'Q14A', 'Q15A', 'Q16A', 'Q17A', 'Q18A', 'Q19A',\n",
              "       'Q20A', 'Q21A', 'Q22A', 'Q23A', 'Q24A', 'Q25A', 'Q26A', 'Q27A', 'Q28A',\n",
              "       'Q29A', 'Q30A', 'Q31A', 'Q32A', 'Q33A', 'Q34A', 'Q35A', 'Q36A', 'Q37A',\n",
              "       'Q38A', 'Q39A', 'Q40A', 'Q41A', 'Q42A', 'TIPI1', 'TIPI2', 'TIPI3',\n",
              "       'TIPI4', 'TIPI5', 'TIPI6', 'TIPI7', 'TIPI8', 'TIPI9', 'TIPI10',\n",
              "       'education', 'urban', 'gender', 'age', 'religion', 'race', 'married',\n",
              "       'familysize'],\n",
              "      dtype='object')"
            ]
          },
          "metadata": {},
          "execution_count": 36
        }
      ]
    },
    {
      "cell_type": "code",
      "source": [
        "corr_data = depression[['education','urban', 'gender', 'age','religion','race','married','familysize']]"
      ],
      "metadata": {
        "id": "x0pTORoYHNzb"
      },
      "execution_count": null,
      "outputs": []
    },
    {
      "cell_type": "code",
      "source": [
        "# Correlation matrix\n",
        "def plotCorrelationMatrix(df, FIGSIZE):\n",
        "    corr = df.corr()\n",
        "    plt.figure(num=None, figsize=(FIGSIZE, FIGSIZE), dpi=80, facecolor='w', edgecolor='k')\n",
        "    corrMat = plt.matshow(corr, fignum = 1)\n",
        "    plt.xticks(range(len(corr.columns)), corr.columns, rotation=90)\n",
        "    plt.yticks(range(len(corr.columns)), corr.columns)\n",
        "    plt.gca().xaxis.tick_bottom()\n",
        "    plt.colorbar(corrMat)\n",
        "    plt.title(f'Correlation Matrix', fontsize=15)\n",
        "    plt.show()"
      ],
      "metadata": {
        "id": "aDmhrM2LHLKs"
      },
      "execution_count": null,
      "outputs": []
    },
    {
      "cell_type": "code",
      "source": [
        "plotCorrelationMatrix(corr_data, 15)"
      ],
      "metadata": {
        "colab": {
          "base_uri": "https://localhost:8080/",
          "height": 967
        },
        "id": "1b3bRNUyHLNs",
        "outputId": "bdb8c64a-09c5-444b-a84e-8ec6018b6b3c"
      },
      "execution_count": null,
      "outputs": [
        {
          "output_type": "display_data",
          "data": {
            "text/plain": [
              "<Figure size 1200x1200 with 2 Axes>"
            ],
            "image/png": "[encoded data removed]"
          },
          "metadata": {}
        }
      ]
    },
    {
      "cell_type": "code",
      "source": [
        "# Scatter and density plots\n",
        "def plotScatterMatrix(df, FIGSIZE, FONTSIZE):\n",
        "    columnNames = list(df)\n",
        "    df = df[columnNames]\n",
        "    ax = pd.plotting.scatter_matrix(df, alpha=0.75, figsize=[FIGSIZE, FIGSIZE], diagonal='kde')\n",
        "    corrs = df.corr().values\n",
        "    for i, j in zip(*plt.np.triu_indices_from(ax, k = 1)):\n",
        "        ax[i, j].annotate('Corr. coef = %.3f' % corrs[i, j], (0.8, 0.4), xycoords='axes fraction', ha='center', va='center', size=FONTSIZE)\n",
        "    plt.suptitle('Scatter and Density Plot')\n",
        "    plt.show()"
      ],
      "metadata": {
        "id": "UlvJJlieIyeT"
      },
      "execution_count": null,
      "outputs": []
    },
    {
      "cell_type": "code",
      "source": [
        "# plotScatterMatrix(corr_data, 30, 10)"
      ],
      "metadata": {
        "id": "A2ThCMsCAY8k"
      },
      "execution_count": null,
      "outputs": []
    },
    {
      "cell_type": "code",
      "source": [
        "depression['total_count']  = depression.sum(axis=1)"
      ],
      "metadata": {
        "id": "q3wuDh79hptr"
      },
      "execution_count": null,
      "outputs": []
    },
    {
      "cell_type": "code",
      "source": [
        "depression['total_count'].describe()"
      ],
      "metadata": {
        "colab": {
          "base_uri": "https://localhost:8080/"
        },
        "id": "Xx5lYStxi1Wf",
        "outputId": "25a1db0b-82b4-44fb-e3d1-52a40b4b7e34"
      },
      "execution_count": null,
      "outputs": [
        {
          "output_type": "execute_result",
          "data": {
            "text/plain": [
              "count    39552.000000\n",
              "mean       218.330451\n",
              "std         39.464418\n",
              "min         90.000000\n",
              "25%        189.000000\n",
              "50%        218.000000\n",
              "75%        246.000000\n",
              "max        352.000000\n",
              "Name: total_count, dtype: float64"
            ]
          },
          "metadata": {},
          "execution_count": 43
        }
      ]
    },
    {
      "cell_type": "markdown",
      "source": [
        "plotting distribution of target variable"
      ],
      "metadata": {
        "id": "64CZJOFKX5fj"
      }
    },
    {
      "cell_type": "code",
      "source": [
        "plt.figure(figsize=(18, 7))\n",
        "sns.distplot(x=depression['total_count'])"
      ],
      "metadata": {
        "colab": {
          "base_uri": "https://localhost:8080/",
          "height": 774
        },
        "id": "0xg-Y7Tsi5pm",
        "outputId": "69abc771-7854-4770-ca78-da3470ec0f00"
      },
      "execution_count": null,
      "outputs": [
        {
          "output_type": "stream",
          "name": "stderr",
          "text": [
            "<ipython-input-44-e094b42c7059>:2: UserWarning: \n",
            "\n",
            "`distplot` is a deprecated function and will be removed in seaborn v0.14.0.\n",
            "\n",
            "Please adapt your code to use either `displot` (a figure-level function with\n",
            "similar flexibility) or `histplot` (an axes-level function for histograms).\n",
            "\n",
            "For a guide to updating your code to use the new functions, please see\n",
            "https://gist.github.com/mwaskom/de44147ed2974457ad6372750bbe5751\n",
            "\n",
            "  sns.distplot(x=depression['total_count'])\n"
          ]
        },
        {
          "output_type": "execute_result",
          "data": {
            "text/plain": [
              "<Axes: ylabel='Density'>"
            ]
          },
          "metadata": {},
          "execution_count": 44
        },
        {
          "output_type": "display_data",
          "data": {
            "text/plain": [
              "<Figure size 1800x700 with 1 Axes>"
            ],
            "image/png": "[encoded data removed]"
          },
          "metadata": {}
        }
      ]
    },
    {
      "cell_type": "code",
      "source": [
        "def buildTarget(value):\n",
        "    if value <= 133:\n",
        "        return 'Normal'\n",
        "    if 133 < value <= 147:\n",
        "        return 'Mild'\n",
        "    if 147 < value <= 170:\n",
        "        return 'Moderate'\n",
        "    if 170 < value <= 194:\n",
        "        return 'Severe'\n",
        "    if value > 194:\n",
        "        return 'Extremely Severe'"
      ],
      "metadata": {
        "id": "cVdKzNHjjGW0"
      },
      "execution_count": null,
      "outputs": []
    },
    {
      "cell_type": "code",
      "source": [
        "# build target feature\n",
        "depression['target'] = depression['total_count'].apply(buildTarget)"
      ],
      "metadata": {
        "id": "2prkv_QijGZT"
      },
      "execution_count": null,
      "outputs": []
    },
    {
      "cell_type": "code",
      "source": [
        "# Let's visualize to see\n",
        "plt.figure(figsize=(18, 7))\n",
        "sns.countplot(x=depression['target'])"
      ],
      "metadata": {
        "colab": {
          "base_uri": "https://localhost:8080/",
          "height": 600
        },
        "id": "UHDUj2lkjGcD",
        "outputId": "0a1e9182-515b-4a29-d5b7-cdc1d8d1f3e9"
      },
      "execution_count": null,
      "outputs": [
        {
          "output_type": "execute_result",
          "data": {
            "text/plain": [
              "<Axes: xlabel='target', ylabel='count'>"
            ]
          },
          "metadata": {},
          "execution_count": 47
        },
        {
          "output_type": "display_data",
          "data": {
            "text/plain": [
              "<Figure size 1800x700 with 1 Axes>"
            ],
            "image/png": "[encoded data removed]"
          },
          "metadata": {}
        }
      ]
    },
    {
      "cell_type": "code",
      "source": [
        "# split target from depression dataset\n",
        "target = depression['target']\n",
        "depression.drop(['target', 'total_count'], axis=1, inplace=True)"
      ],
      "metadata": {
        "id": "dXBHSuzCjE8c"
      },
      "execution_count": null,
      "outputs": []
    },
    {
      "cell_type": "code",
      "source": [
        "# split in train and test data\n",
        "x_train, x_test, y_train, y_test = train_test_split(depression, target, test_size=.3)"
      ],
      "metadata": {
        "id": "Qkb6Lw4hjE_R"
      },
      "execution_count": null,
      "outputs": []
    },
    {
      "cell_type": "code",
      "source": [
        "print(f'x_train: {x_train.shape}, y_train: {y_train.shape}')\n",
        "print(f'x_test: {x_test.shape}, y_test: {y_test.shape}')"
      ],
      "metadata": {
        "id": "veN1xGnzjFCV",
        "colab": {
          "base_uri": "https://localhost:8080/"
        },
        "outputId": "84e77158-7541-47ea-8830-4aad3971b537"
      },
      "execution_count": null,
      "outputs": [
        {
          "output_type": "stream",
          "name": "stdout",
          "text": [
            "x_train: (27686, 60), y_train: (27686,)\n",
            "x_test: (11866, 60), y_test: (11866,)\n"
          ]
        }
      ]
    },
    {
      "cell_type": "code",
      "source": [
        "# scalling the data\n",
        "scaler = MinMaxScaler()\n",
        "\n",
        "x_train_scaled = scaler.fit_transform(x_train)\n",
        "x_test_scaled = scaler.transform(x_test)"
      ],
      "metadata": {
        "id": "a7JOy-lNl1yg"
      },
      "execution_count": null,
      "outputs": []
    },
    {
      "cell_type": "code",
      "source": [
        "# from imblearn.combine import SMOTEENN\n",
        "# # from imblearn.pipeline import Pipeline\n",
        "# from imblearn.under_sampling import EditedNearestNeighbours\n",
        "# #Define SMOTE-ENN\n",
        "# resample=SMOTEENN(enn=EditedNearestNeighbours(sampling_strategy='all'))\n",
        "# # pipeline=Pipeline(steps=[('r', resample), ('m', knnClassifier)])"
      ],
      "metadata": {
        "id": "VBL0Q1p15HhH"
      },
      "execution_count": null,
      "outputs": []
    },
    {
      "cell_type": "code",
      "source": [
        "# from imblearn.over_sampling import SMOTE\n",
        "# over = SMOTE(sampling_strategy=0.1)\n",
        "# resample.fit_resample(x_train, y_train)"
      ],
      "metadata": {
        "id": "4OEMMGVklPH7"
      },
      "execution_count": null,
      "outputs": []
    },
    {
      "cell_type": "markdown",
      "source": [
        "**weights='distance'** give more weightage to nearest point     \n",
        "**n_neighbors = 5 **atlest 5 sample per classes                                      \n",
        "**metric = 'minkowski', p=2**, l2 loss"
      ],
      "metadata": {
        "id": "7IMuq5jkaUCy"
      }
    },
    {
      "cell_type": "code",
      "source": [
        "knnClassifier = KNeighborsClassifier(n_neighbors = 5, metric = 'minkowski', p=2, weights='distance')"
      ],
      "metadata": {
        "id": "PinUIc5XmUkO"
      },
      "execution_count": null,
      "outputs": []
    },
    {
      "cell_type": "code",
      "source": [
        "cv=RepeatedStratifiedKFold(n_splits=3, n_repeats=3, random_state=1)\n",
        "#Evaluate model\n",
        "scoring=['accuracy','precision_macro','recall_macro']\n",
        "scores = cross_validate(knnClassifier, x_train_scaled, y_train, scoring=scoring, cv=cv, n_jobs=3)"
      ],
      "metadata": {
        "id": "zMbBsPcz7A6k"
      },
      "execution_count": null,
      "outputs": []
    },
    {
      "cell_type": "code",
      "source": [
        "# summarize performance\n",
        "print('Mean Accuracy: %.4f' % np.mean(scores['test_accuracy']))\n",
        "print('Mean Precision: %.4f' % np.mean(scores['test_precision_macro']))\n",
        "print('Mean Recall: %.4f' % np.mean(scores['test_recall_macro']))"
      ],
      "metadata": {
        "colab": {
          "base_uri": "https://localhost:8080/"
        },
        "id": "cidF4KWk7Pbi",
        "outputId": "57374365-83b7-4940-b470-99dca6b59bba"
      },
      "execution_count": null,
      "outputs": [
        {
          "output_type": "stream",
          "name": "stdout",
          "text": [
            "Mean Accuracy: 0.8789\n",
            "Mean Precision: 0.7046\n",
            "Mean Recall: 0.7120\n"
          ]
        }
      ]
    },
    {
      "cell_type": "code",
      "source": [
        "knnClassifier.fit(x_train_scaled, y_train)"
      ],
      "metadata": {
        "colab": {
          "base_uri": "https://localhost:8080/",
          "height": 75
        },
        "id": "fn2oj-aKX9RV",
        "outputId": "67daeac8-f789-443f-adbc-a644cd340b88"
      },
      "execution_count": null,
      "outputs": [
        {
          "output_type": "execute_result",
          "data": {
            "text/plain": [
              "KNeighborsClassifier(weights='distance')"
            ],
            "text/html": [
              "<style>#sk-container-id-1 {color: black;background-color: white;}#sk-container-id-1 pre{padding: 0;}#sk-container-id-1 div.sk-toggleable {background-color: white;}#sk-container-id-1 label.sk-toggleable__label {cursor: pointer;display: block;width: 100%;margin-bottom: 0;padding: 0.3em;box-sizing: border-box;text-align: center;}#sk-container-id-1 label.sk-toggleable__label-arrow:before {content: \"▸\";float: left;margin-right: 0.25em;color: #696969;}#sk-container-id-1 label.sk-toggleable__label-arrow:hover:before {color: black;}#sk-container-id-1 div.sk-estimator:hover label.sk-toggleable__label-arrow:before {color: black;}#sk-container-id-1 div.sk-toggleable__content {max-height: 0;max-width: 0;overflow: hidden;text-align: left;background-color: #f0f8ff;}#sk-container-id-1 div.sk-toggleable__content pre {margin: 0.2em;color: black;border-radius: 0.25em;background-color: #f0f8ff;}#sk-container-id-1 input.sk-toggleable__control:checked~div.sk-toggleable__content {max-height: 200px;max-width: 100%;overflow: auto;}#sk-container-id-1 input.sk-toggleable__control:checked~label.sk-toggleable__label-arrow:before {content: \"▾\";}#sk-container-id-1 div.sk-estimator input.sk-toggleable__control:checked~label.sk-toggleable__label {background-color: #d4ebff;}#sk-container-id-1 div.sk-label input.sk-toggleable__control:checked~label.sk-toggleable__label {background-color: #d4ebff;}#sk-container-id-1 input.sk-hidden--visually {border: 0;clip: rect(1px 1px 1px 1px);clip: rect(1px, 1px, 1px, 1px);height: 1px;margin: -1px;overflow: hidden;padding: 0;position: absolute;width: 1px;}#sk-container-id-1 div.sk-estimator {font-family: monospace;background-color: #f0f8ff;border: 1px dotted black;border-radius: 0.25em;box-sizing: border-box;margin-bottom: 0.5em;}#sk-container-id-1 div.sk-estimator:hover {background-color: #d4ebff;}#sk-container-id-1 div.sk-parallel-item::after {content: \"\";width: 100%;border-bottom: 1px solid gray;flex-grow: 1;}#sk-container-id-1 div.sk-label:hover label.sk-toggleable__label {background-color: #d4ebff;}#sk-container-id-1 div.sk-serial::before {content: \"\";position: absolute;border-left: 1px solid gray;box-sizing: border-box;top: 0;bottom: 0;left: 50%;z-index: 0;}#sk-container-id-1 div.sk-serial {display: flex;flex-direction: column;align-items: center;background-color: white;padding-right: 0.2em;padding-left: 0.2em;position: relative;}#sk-container-id-1 div.sk-item {position: relative;z-index: 1;}#sk-container-id-1 div.sk-parallel {display: flex;align-items: stretch;justify-content: center;background-color: white;position: relative;}#sk-container-id-1 div.sk-item::before, #sk-container-id-1 div.sk-parallel-item::before {content: \"\";position: absolute;border-left: 1px solid gray;box-sizing: border-box;top: 0;bottom: 0;left: 50%;z-index: -1;}#sk-container-id-1 div.sk-parallel-item {display: flex;flex-direction: column;z-index: 1;position: relative;background-color: white;}#sk-container-id-1 div.sk-parallel-item:first-child::after {align-self: flex-end;width: 50%;}#sk-container-id-1 div.sk-parallel-item:last-child::after {align-self: flex-start;width: 50%;}#sk-container-id-1 div.sk-parallel-item:only-child::after {width: 0;}#sk-container-id-1 div.sk-dashed-wrapped {border: 1px dashed gray;margin: 0 0.4em 0.5em 0.4em;box-sizing: border-box;padding-bottom: 0.4em;background-color: white;}#sk-container-id-1 div.sk-label label {font-family: monospace;font-weight: bold;display: inline-block;line-height: 1.2em;}#sk-container-id-1 div.sk-label-container {text-align: center;}#sk-container-id-1 div.sk-container {/* jupyter's `normalize.less` sets `[hidden] { display: none; }` but bootstrap.min.css set `[hidden] { display: none !important; }` so we also need the `!important` here to be able to override the default hidden behavior on the sphinx rendered scikit-learn.org. See: https://github.com/scikit-learn/scikit-learn/issues/21755 */display: inline-block !important;position: relative;}#sk-container-id-1 div.sk-text-repr-fallback {display: none;}</style><div id=\"sk-container-id-1\" class=\"sk-top-container\"><div class=\"sk-text-repr-fallback\"><pre>KNeighborsClassifier(weights=&#x27;distance&#x27;)</pre><b>In a Jupyter environment, please rerun this cell to show the HTML representation or trust the notebook. <br />On GitHub, the HTML representation is unable to render, please try loading this page with nbviewer.org.</b></div><div class=\"sk-container\" hidden><div class=\"sk-item\"><div class=\"sk-estimator sk-toggleable\"><input class=\"sk-toggleable__control sk-hidden--visually\" id=\"sk-estimator-id-1\" type=\"checkbox\" checked><label for=\"sk-estimator-id-1\" class=\"sk-toggleable__label sk-toggleable__label-arrow\">KNeighborsClassifier</label><div class=\"sk-toggleable__content\"><pre>KNeighborsClassifier(weights=&#x27;distance&#x27;)</pre></div></div></div></div></div>"
            ]
          },
          "metadata": {},
          "execution_count": 57
        }
      ]
    },
    {
      "cell_type": "code",
      "source": [
        "y_pred = knnClassifier.predict(x_test_scaled)"
      ],
      "metadata": {
        "id": "kfhw17jsrtVJ"
      },
      "execution_count": null,
      "outputs": []
    },
    {
      "cell_type": "code",
      "source": [
        "# confusion matrix plot\n",
        "cm = confusion_matrix(y_test, y_pred)\n",
        "disp = ConfusionMatrixDisplay(confusion_matrix=cm)\n",
        "disp.plot()"
      ],
      "metadata": {
        "colab": {
          "base_uri": "https://localhost:8080/",
          "height": 471
        },
        "id": "oP9FLARs9j_w",
        "outputId": "bb2e7c09-40d4-4842-b968-05a56bffe00a"
      },
      "execution_count": null,
      "outputs": [
        {
          "output_type": "execute_result",
          "data": {
            "text/plain": [
              "<sklearn.metrics._plot.confusion_matrix.ConfusionMatrixDisplay at 0x7fe74991ff40>"
            ]
          },
          "metadata": {},
          "execution_count": 59
        },
        {
          "output_type": "display_data",
          "data": {
            "text/plain": [
              "<Figure size 640x480 with 2 Axes>"
            ],
            "image/png": "[encoded data removed]"
          },
          "metadata": {}
        }
      ]
    },
    {
      "cell_type": "code",
      "source": [
        "print('accuracy_score',accuracy_score(y_test, y_pred))\n",
        "print('precision_score',precision_score(y_test, y_pred, average='weighted'))\n",
        "print('recall_score',recall_score(y_test, y_pred, average='weighted'))\n",
        "print('f1_score',f1_score(y_test, y_pred, average='weighted'))"
      ],
      "metadata": {
        "colab": {
          "base_uri": "https://localhost:8080/"
        },
        "id": "E7-xrfHivXWn",
        "outputId": "76d2a5f5-a7e8-4105-93b4-b21e221636a7"
      },
      "execution_count": null,
      "outputs": [
        {
          "output_type": "stream",
          "name": "stdout",
          "text": [
            "accuracy_score 0.8828585875610989\n",
            "precision_score 0.8823076338687148\n",
            "recall_score 0.8828585875610989\n",
            "f1_score 0.8825679505810211\n"
          ]
        }
      ]
    },
    {
      "cell_type": "code",
      "source": [
        "pred_prob1 = knnClassifier.predict_proba(x_test_scaled)"
      ],
      "metadata": {
        "id": "KroHofH4xBay"
      },
      "execution_count": null,
      "outputs": []
    },
    {
      "cell_type": "code",
      "source": [
        "pred_prob1.shape"
      ],
      "metadata": {
        "colab": {
          "base_uri": "https://localhost:8080/"
        },
        "id": "Q9E9xpmcfC-W",
        "outputId": "a72d40a1-00ed-4f85-fde6-3317a5bc0db4"
      },
      "execution_count": null,
      "outputs": [
        {
          "output_type": "execute_result",
          "data": {
            "text/plain": [
              "(11866, 5)"
            ]
          },
          "metadata": {},
          "execution_count": 62
        }
      ]
    },
    {
      "cell_type": "code",
      "source": [
        "label_binarizer = LabelBinarizer().fit(y_train)\n",
        "y_onehot_test = label_binarizer.transform(y_test)\n",
        "y_onehot_test.shape  # (n_samples, n_classes)"
      ],
      "metadata": {
        "id": "21GvddCOeF2i",
        "colab": {
          "base_uri": "https://localhost:8080/"
        },
        "outputId": "d1827063-3c65-4c8c-f64f-5e033fbb7d75"
      },
      "execution_count": null,
      "outputs": [
        {
          "output_type": "execute_result",
          "data": {
            "text/plain": [
              "(11866, 5)"
            ]
          },
          "metadata": {},
          "execution_count": 63
        }
      ]
    },
    {
      "cell_type": "markdown",
      "source": [
        "## ROC and AUC for all"
      ],
      "metadata": {
        "id": "1M6IHEVDZqWz"
      }
    },
    {
      "cell_type": "code",
      "source": [
        "class_id = 0\n",
        "class_name = 'Extremely Severe'\n",
        "\n",
        "RocCurveDisplay.from_predictions(\n",
        "    y_onehot_test[:, class_id],\n",
        "    pred_prob1[:, class_id],\n",
        "    name=f\"{class_name} vs the rest\",\n",
        "    color=\"darkorange\",\n",
        "    # plot_chance_level=True,\n",
        ")\n",
        "plt.axis(\"square\")\n",
        "plt.xlabel(\"False Positive Rate\")\n",
        "plt.ylabel(\"True Positive Rate\")\n",
        "plt.title(\"One-vs-Rest ROC curves\")\n",
        "plt.legend()\n",
        "plt.show()"
      ],
      "metadata": {
        "colab": {
          "base_uri": "https://localhost:8080/",
          "height": 472
        },
        "id": "yqc0MeRYBCSc",
        "outputId": "e7c6088f-671d-4185-d3fc-29a7717c4ee8"
      },
      "execution_count": null,
      "outputs": [
        {
          "output_type": "display_data",
          "data": {
            "text/plain": [
              "<Figure size 640x480 with 1 Axes>"
            ],
            "image/png": "[encoded data removed]"
          },
          "metadata": {}
        }
      ]
    },
    {
      "cell_type": "code",
      "source": [
        "class_id = 1\n",
        "class_name = 'Mild' #'Moderate', 'Normal', 'Severe'\n",
        "RocCurveDisplay.from_predictions(\n",
        "    y_onehot_test[:, class_id],\n",
        "    pred_prob1[:, class_id],\n",
        "    name=f\"{class_name} vs the rest\",\n",
        "    color=\"darkorange\",\n",
        "    # plot_chance_level=True,\n",
        ")\n",
        "plt.axis(\"square\")\n",
        "plt.xlabel(\"False Positive Rate\")\n",
        "plt.ylabel(\"True Positive Rate\")\n",
        "plt.title(\"One-vs-Rest ROC curves\")\n",
        "plt.legend()\n",
        "plt.show()"
      ],
      "metadata": {
        "colab": {
          "base_uri": "https://localhost:8080/",
          "height": 472
        },
        "id": "Nch8TWTVBCU0",
        "outputId": "388cc2c0-7346-4121-b9f4-6fe16d232852"
      },
      "execution_count": null,
      "outputs": [
        {
          "output_type": "display_data",
          "data": {
            "text/plain": [
              "<Figure size 640x480 with 1 Axes>"
            ],
            "image/png": "[encoded data removed]"
          },
          "metadata": {}
        }
      ]
    },
    {
      "cell_type": "code",
      "source": [
        "class_id = 2\n",
        "class_name = 'Moderate'\n",
        "RocCurveDisplay.from_predictions(\n",
        "    y_onehot_test[:, class_id],\n",
        "    pred_prob1[:, class_id],\n",
        "    name=f\"{class_name} vs the rest\",\n",
        "    color=\"darkorange\",\n",
        "    # plot_chance_level=True,\n",
        ")\n",
        "plt.axis(\"square\")\n",
        "plt.xlabel(\"False Positive Rate\")\n",
        "plt.ylabel(\"True Positive Rate\")\n",
        "plt.title(\"One-vs-Rest ROC curves\")\n",
        "plt.legend()\n",
        "plt.show()"
      ],
      "metadata": {
        "colab": {
          "base_uri": "https://localhost:8080/",
          "height": 472
        },
        "id": "NmNkHii-FlHb",
        "outputId": "8c0fabc2-7413-4687-e9c0-50761911d025"
      },
      "execution_count": null,
      "outputs": [
        {
          "output_type": "display_data",
          "data": {
            "text/plain": [
              "<Figure size 640x480 with 1 Axes>"
            ],
            "image/png": "[encoded data removed]"
          },
          "metadata": {}
        }
      ]
    },
    {
      "cell_type": "code",
      "source": [
        "class_id = 3\n",
        "class_name = 'Normal'\n",
        "RocCurveDisplay.from_predictions(\n",
        "    y_onehot_test[:, class_id],\n",
        "    pred_prob1[:, class_id],\n",
        "    name=f\"{class_name} vs the rest\",\n",
        "    color=\"darkorange\",\n",
        "    # plot_chance_level=True,\n",
        ")\n",
        "plt.axis(\"square\")\n",
        "plt.xlabel(\"False Positive Rate\")\n",
        "plt.ylabel(\"True Positive Rate\")\n",
        "plt.title(\"One-vs-Rest ROC curves\")\n",
        "plt.legend()\n",
        "plt.show()"
      ],
      "metadata": {
        "colab": {
          "base_uri": "https://localhost:8080/",
          "height": 472
        },
        "id": "lVXD1whMFuXC",
        "outputId": "bb765f81-b46c-46a9-bcd5-080d6eb8379d"
      },
      "execution_count": null,
      "outputs": [
        {
          "output_type": "display_data",
          "data": {
            "text/plain": [
              "<Figure size 640x480 with 1 Axes>"
            ],
            "image/png": "[encoded data removed]"
          },
          "metadata": {}
        }
      ]
    },
    {
      "cell_type": "code",
      "source": [
        "class_id = 4\n",
        "class_name = 'Severe'\n",
        "RocCurveDisplay.from_predictions(\n",
        "    y_onehot_test[:, class_id],\n",
        "    pred_prob1[:, class_id],\n",
        "    name=f\"{class_name} vs the rest\",\n",
        "    color=\"darkorange\",\n",
        "    # plot_chance_level=True,\n",
        ")\n",
        "plt.axis(\"square\")\n",
        "plt.xlabel(\"False Positive Rate\")\n",
        "plt.ylabel(\"True Positive Rate\")\n",
        "plt.title(\"One-vs-Rest ROC curves\")\n",
        "plt.legend()\n",
        "plt.show()"
      ],
      "metadata": {
        "colab": {
          "base_uri": "https://localhost:8080/",
          "height": 472
        },
        "id": "2gewWdsSFuZ7",
        "outputId": "7f27c7ea-211c-4a71-a0bd-29344aa11018"
      },
      "execution_count": null,
      "outputs": [
        {
          "output_type": "display_data",
          "data": {
            "text/plain": [
              "<Figure size 640x480 with 1 Axes>"
            ],
            "image/png": "[encoded data removed]"
          },
          "metadata": {}
        }
      ]
    },
    {
      "cell_type": "code",
      "source": [],
      "metadata": {
        "id": "XaC7N02jFucT"
      },
      "execution_count": null,
      "outputs": []
    }
  ]
}